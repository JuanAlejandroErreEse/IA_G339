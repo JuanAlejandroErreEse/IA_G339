{
 "cells": [
  {
   "cell_type": "markdown",
   "id": "66c70bee",
   "metadata": {},
   "source": [
    "# Introduccion a numpy"
   ]
  },
  {
   "cell_type": "code",
   "execution_count": 1,
   "id": "c9616f09",
   "metadata": {},
   "outputs": [],
   "source": [
    "import numpy as np\n"
   ]
  },
  {
   "cell_type": "markdown",
   "id": "5564097a",
   "metadata": {},
   "source": [
    "# Arrays\n",
    "Es una estructura de Datos\n",
    "un axis  (esto crresponde al conjunto de ceros)\n",
    "un shape (3,5) (forma del conjunto de ceros)\n",
    "un size 15 ( el el total del conjunto de ceros)"
   ]
  },
  {
   "cell_type": "code",
   "execution_count": 3,
   "id": "a7f63853",
   "metadata": {},
   "outputs": [
    {
     "name": "stdout",
     "output_type": "stream",
     "text": [
      "[[0. 0. 0. 0. 0.]\n",
      " [0. 0. 0. 0. 0.]\n",
      " [0. 0. 0. 0. 0.]]\n"
     ]
    }
   ],
   "source": [
    "# Array cuyos valores son todo 0\n",
    "a=np.zeros((3,5))\n",
    "print(a)"
   ]
  },
  {
   "cell_type": "markdown",
   "id": "bc3b5b39",
   "metadata": {},
   "source": [
    "Describe el array\n",
    "2 axis  "
   ]
  },
  {
   "cell_type": "code",
   "execution_count": 4,
   "id": "df07c14e",
   "metadata": {},
   "outputs": [
    {
     "name": "stdout",
     "output_type": "stream",
     "text": [
      "[[[0. 0. 0. 0.]\n",
      "  [0. 0. 0. 0.]\n",
      "  [0. 0. 0. 0.]]\n",
      "\n",
      " [[0. 0. 0. 0.]\n",
      "  [0. 0. 0. 0.]\n",
      "  [0. 0. 0. 0.]]]\n"
     ]
    }
   ],
   "source": [
    "#ejemplo 2\n",
    "a=np.zeros((2,3,4))\n",
    "print(a)"
   ]
  }
 ],
 "metadata": {
  "kernelspec": {
   "display_name": "envg339",
   "language": "python",
   "name": "python3"
  },
  "language_info": {
   "codemirror_mode": {
    "name": "ipython",
    "version": 3
   },
   "file_extension": ".py",
   "mimetype": "text/x-python",
   "name": "python",
   "nbconvert_exporter": "python",
   "pygments_lexer": "ipython3",
   "version": "3.13.9"
  }
 },
 "nbformat": 4,
 "nbformat_minor": 5
}
